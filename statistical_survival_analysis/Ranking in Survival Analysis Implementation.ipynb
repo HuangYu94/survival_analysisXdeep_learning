{
 "cells": [
  {
   "cell_type": "markdown",
   "metadata": {},
   "source": [
    "# Ranking in Survival Analysis Paper Implementation"
   ]
  },
  {
   "cell_type": "markdown",
   "metadata": {},
   "source": [
    "### This notebook implements the idea in paper \"On Ranking in Survival Analysis: Bounds on the Concordance Index\""
   ]
  },
  {
   "cell_type": "code",
   "execution_count": 1,
   "metadata": {
    "collapsed": true
   },
   "outputs": [],
   "source": [
    "import numpy as np\n",
    "import pandas as pd\n"
   ]
  },
  {
   "cell_type": "code",
   "execution_count": 17,
   "metadata": {},
   "outputs": [
    {
     "name": "stdout",
     "output_type": "stream",
     "text": [
      "         age  death     sex  hospdead  slos  d.time            dzgroup  \\\n",
      "0  85.655945      1    male         0    12      63        Lung Cancer   \n",
      "1  42.258972      1  female         0     8     370       Colon Cancer   \n",
      "2  43.539978      0  female         0   115    2022  ARF/MOSF w/Sepsis   \n",
      "3  45.417999      1    male         0     7     827        Lung Cancer   \n",
      "4  63.662994      1  female         1    14      14  ARF/MOSF w/Sepsis   \n",
      "5  41.521973      1    male         1    21      21       MOSF w/Malig   \n",
      "6  60.100983      1    male         0    15     195          Cirrhosis   \n",
      "7  41.959991      1    male         0     4     503        Lung Cancer   \n",
      "8  31.701996      0  female         0    49    1973          Cirrhosis   \n",
      "9  72.171997      1    male         1    12      12        Lung Cancer   \n",
      "\n",
      "              dzclass  num.co   edu    ...         crea  sod        ph  \\\n",
      "0              Cancer       2  12.0    ...     1.000000  143  7.449219   \n",
      "1              Cancer       0  11.0    ...     0.799927  139       NaN   \n",
      "2            ARF/MOSF       1   NaN    ...     0.599976  134  7.399414   \n",
      "3              Cancer       2   NaN    ...     1.099854  137  7.489258   \n",
      "4            ARF/MOSF       0  22.0    ...     2.899902  130  7.449219   \n",
      "5            ARF/MOSF       2  18.0    ...     7.299805  134  7.359375   \n",
      "6  COPD/CHF/Cirrhosis       1   NaN    ...     1.000000  142  7.439453   \n",
      "7              Cancer       1  16.0    ...     1.099854  133  7.479492   \n",
      "8  COPD/CHF/Cirrhosis       0  14.0    ...     1.399902  127  7.489258   \n",
      "9              Cancer       1   NaN    ...     1.099854  135  7.559570   \n",
      "\n",
      "   glucose  bun  urine adlp  adls                sfdm2     adlsc  \n",
      "0      NaN  NaN    NaN  NaN   7.0                  NaN  7.000000  \n",
      "1      NaN  NaN    NaN  0.0   NaN                  NaN  0.494800  \n",
      "2      NaN  NaN    NaN  NaN   NaN              SIP>=30  2.764160  \n",
      "3      NaN  NaN    NaN  NaN   NaN                  NaN  3.351562  \n",
      "4      NaN  NaN    NaN  NaN   0.0     <2 mo. follow-up  0.000000  \n",
      "5      NaN  NaN    NaN  NaN   0.0     <2 mo. follow-up  0.000000  \n",
      "6      NaN  NaN    NaN  NaN   NaN                  NaN  2.381348  \n",
      "7      NaN  NaN    NaN  NaN   NaN  no(M2 and SIP pres)  2.179688  \n",
      "8      NaN  NaN    NaN  6.0   1.0              SIP>=30  1.000000  \n",
      "9      NaN  NaN    NaN  NaN   0.0     <2 mo. follow-up  0.000000  \n",
      "\n",
      "[10 rows x 35 columns]\n",
      "(1000, 35)\n",
      "Index(['age', 'death', 'sex', 'hospdead', 'slos', 'd.time', 'dzgroup',\n",
      "       'dzclass', 'num.co', 'edu', 'income', 'scoma', 'charges', 'totcst',\n",
      "       'totmcst', 'avtisst', 'race', 'meanbp', 'wblc', 'hrt', 'resp', 'temp',\n",
      "       'pafi', 'alb', 'bili', 'crea', 'sod', 'ph', 'glucose', 'bun', 'urine',\n",
      "       'adlp', 'adls', 'sfdm2', 'adlsc'],\n",
      "      dtype='object')\n",
      "ARF/MOSF w/Sepsis    391\n",
      "CHF                  143\n",
      "COPD                 116\n",
      "Lung Cancer          100\n",
      "MOSF w/Malig          86\n",
      "Coma                  60\n",
      "Cirrhosis             55\n",
      "Colon Cancer          49\n",
      "Name: dzgroup, dtype: int64\n",
      "0    1\n",
      "1    1\n",
      "2    0\n",
      "3    1\n",
      "4    1\n",
      "Name: death, dtype: int64\n",
      "(32, 35)\n"
     ]
    }
   ],
   "source": [
    "patient_df = pd.read_csv('./dataset/support.tsv', sep='\\t', encoding='utf8')\n",
    "print(patient_df.head(10))\n",
    "print(patient_df.shape)\n",
    "print(patient_df.columns)\n",
    "print(patient_df['dzgroup'].value_counts())\n",
    "print(patient_df['death'].head())\n",
    "patient_df = patient_df.dropna()\n",
    "print(patient_df.shape)"
   ]
  },
  {
   "cell_type": "code",
   "execution_count": 30,
   "metadata": {},
   "outputs": [
    {
     "name": "stdout",
     "output_type": "stream",
     "text": [
      "       var1      var2      var3          T  E\n",
      "0  0.595170  1.143472  1.571079  14.785652  1\n",
      "1  0.209325  0.184677  0.356980   7.335846  1\n",
      "2  0.693919  0.071893  0.557960   5.269797  1\n",
      "3  0.443804  1.364646  0.374221  11.684092  1\n",
      "4  1.613324  0.125566  1.921325   7.639492  1\n",
      "Index(['var1', 'var2', 'var3', 'T', 'E'], dtype='object')\n"
     ]
    },
    {
     "data": {
      "text/plain": [
       "(200, 5)"
      ]
     },
     "execution_count": 30,
     "metadata": {},
     "output_type": "execute_result"
    }
   ],
   "source": [
    "from lifelines.datasets import load_regression_dataset\n",
    "regression_dataset = load_regression_dataset()\n",
    "\n",
    "print(regression_dataset.head())\n",
    "print(regression_dataset.columns)\n",
    "regression_dataset.shape"
   ]
  },
  {
   "cell_type": "code",
   "execution_count": 31,
   "metadata": {},
   "outputs": [
    {
     "data": {
      "text/html": [
       "<div>\n",
       "<style scoped>\n",
       "    .dataframe tbody tr th:only-of-type {\n",
       "        vertical-align: middle;\n",
       "    }\n",
       "\n",
       "    .dataframe tbody tr th {\n",
       "        vertical-align: top;\n",
       "    }\n",
       "\n",
       "    .dataframe thead th {\n",
       "        text-align: right;\n",
       "    }\n",
       "</style>\n",
       "<table border=\"1\" class=\"dataframe\">\n",
       "  <thead>\n",
       "    <tr style=\"text-align: right;\">\n",
       "      <th></th>\n",
       "      <th>ID</th>\n",
       "      <th>var1</th>\n",
       "      <th>var2</th>\n",
       "      <th>var3</th>\n",
       "      <th>T</th>\n",
       "      <th>E</th>\n",
       "    </tr>\n",
       "  </thead>\n",
       "  <tbody>\n",
       "    <tr>\n",
       "      <th>0</th>\n",
       "      <td>0</td>\n",
       "      <td>0.595170</td>\n",
       "      <td>1.143472</td>\n",
       "      <td>1.571079</td>\n",
       "      <td>14.785652</td>\n",
       "      <td>1</td>\n",
       "    </tr>\n",
       "    <tr>\n",
       "      <th>1</th>\n",
       "      <td>1</td>\n",
       "      <td>0.209325</td>\n",
       "      <td>0.184677</td>\n",
       "      <td>0.356980</td>\n",
       "      <td>7.335846</td>\n",
       "      <td>1</td>\n",
       "    </tr>\n",
       "    <tr>\n",
       "      <th>2</th>\n",
       "      <td>2</td>\n",
       "      <td>0.693919</td>\n",
       "      <td>0.071893</td>\n",
       "      <td>0.557960</td>\n",
       "      <td>5.269797</td>\n",
       "      <td>1</td>\n",
       "    </tr>\n",
       "    <tr>\n",
       "      <th>3</th>\n",
       "      <td>3</td>\n",
       "      <td>0.443804</td>\n",
       "      <td>1.364646</td>\n",
       "      <td>0.374221</td>\n",
       "      <td>11.684092</td>\n",
       "      <td>1</td>\n",
       "    </tr>\n",
       "    <tr>\n",
       "      <th>4</th>\n",
       "      <td>4</td>\n",
       "      <td>1.613324</td>\n",
       "      <td>0.125566</td>\n",
       "      <td>1.921325</td>\n",
       "      <td>7.639492</td>\n",
       "      <td>1</td>\n",
       "    </tr>\n",
       "  </tbody>\n",
       "</table>\n",
       "</div>"
      ],
      "text/plain": [
       "   ID      var1      var2      var3          T  E\n",
       "0   0  0.595170  1.143472  1.571079  14.785652  1\n",
       "1   1  0.209325  0.184677  0.356980   7.335846  1\n",
       "2   2  0.693919  0.071893  0.557960   5.269797  1\n",
       "3   3  0.443804  1.364646  0.374221  11.684092  1\n",
       "4   4  1.613324  0.125566  1.921325   7.639492  1"
      ]
     },
     "execution_count": 31,
     "metadata": {},
     "output_type": "execute_result"
    }
   ],
   "source": [
    "regression_dataset.insert(0, 'ID', [i for i in range(0, 200)])\n",
    "regression_dataset.shape\n",
    "regression_dataset.head()"
   ]
  },
  {
   "cell_type": "code",
   "execution_count": null,
   "metadata": {
    "collapsed": true
   },
   "outputs": [],
   "source": []
  }
 ],
 "metadata": {
  "kernelspec": {
   "display_name": "Python 3",
   "language": "python",
   "name": "python3"
  },
  "language_info": {
   "codemirror_mode": {
    "name": "ipython",
    "version": 3
   },
   "file_extension": ".py",
   "mimetype": "text/x-python",
   "name": "python",
   "nbconvert_exporter": "python",
   "pygments_lexer": "ipython3",
   "version": "3.6.3"
  }
 },
 "nbformat": 4,
 "nbformat_minor": 2
}
